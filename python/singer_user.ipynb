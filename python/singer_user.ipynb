{
 "cells": [
  {
   "cell_type": "code",
   "execution_count": 1276,
   "metadata": {},
   "outputs": [],
   "source": [
    "# import os\n",
    "# import tensorflow as tf\n",
    "# print(tf.device('/gpu:0'))\n",
    "# os.environ['CUDA_VISIBLE_DEVICES'] = \"0\""
   ]
  },
  {
   "cell_type": "code",
   "execution_count": 1277,
   "metadata": {},
   "outputs": [],
   "source": [
    "#导包\n",
    "import numpy as np\n",
    "import pandas as pd\n",
    "import matplotlib.pyplot as plt\n",
    "import random\n",
    "import math\n",
    "import time\n",
    "\n",
    "from sklearn.model_selection import train_test_split\n",
    "from sklearn.linear_model import LinearRegression\n",
    "from sklearn.metrics import mean_absolute_error,mean_squared_error\n",
    "from sklearn.preprocessing import PolynomialFeatures\n",
    "from sklearn.cluster import KMeans\n",
    "from sklearn.decomposition import PCA\n",
    "\n",
    "# from numba import jit\n",
    "# @jit(nopython==True)"
   ]
  },
  {
   "cell_type": "code",
   "execution_count": 1278,
   "metadata": {},
   "outputs": [],
   "source": [
    "#导入方法\n",
    "from SimilitudItems import *"
   ]
  },
  {
   "cell_type": "code",
   "execution_count": 1279,
   "metadata": {},
   "outputs": [],
   "source": [
    "start = time.time()"
   ]
  },
  {
   "cell_type": "code",
   "execution_count": 1280,
   "metadata": {},
   "outputs": [],
   "source": [
    "#初始化一些参数\n",
    "K1 = 3\n",
    "K2 = -10\n",
    "alpha = 0.95#两个K和alpha在处理打分矩阵时候用到\n",
    "Ucluster_number = 3#输出聚类结果的前三个\n",
    "iter_num = 100#y的行数"
   ]
  },
  {
   "cell_type": "code",
   "execution_count": 1281,
   "metadata": {},
   "outputs": [],
   "source": [
    "#初始化参数\n",
    "mycase = 1   # 读取哪个数据集\n",
    "neibor_num = 40  # 邻居数"
   ]
  },
  {
   "cell_type": "code",
   "execution_count": 1282,
   "metadata": {},
   "outputs": [],
   "source": [
    "#读取数据\n",
    "# 读训练集\n",
    "if mycase == 1:\n",
    "    u = pd.read_csv(\"features.csv\")\n",
    "    # print(u)\n",
    "    # for i in range(len(u)):\n",
    "    #     if (u.loc[i,\"score\"]<100.0):\n",
    "    #         u.loc[i,\"score\"] = 10.0\n",
    "    #     elif (100.0<u.loc[i,\"score\"]<1000.0):\n",
    "    #         u.loc[i,\"score\"] = 20.0\n",
    "    #     elif (1000.0<u.loc[i, \"score\"] < 10000.0):\n",
    "    #         u.loc[i, \"score\"] = 30.0\n",
    "    #     elif (10000.0<u.loc[i, \"score\"] < 100000.0):\n",
    "    #         u.loc[i, \"score\"] = 40.0\n",
    "    # print(u)\n",
    "    u1 = u.iloc[:6400,:]\n",
    "    uf = u.iloc[6400:,:]\n",
    "    # print(uf)\n",
    "    # u1 = pd.read_csv(\"u1base.csv\")\n",
    "elif mycase == 2:\n",
    "    u1 = pd.read_csv(\"u2base.csv\")\n",
    "elif mycase == 3:\n",
    "    u1 = pd.read_csv(\"u3base.csv\")\n",
    "elif mycase == 4:\n",
    "    u1 = pd.read_csv(\"u4base.csv\")\n",
    "elif mycase == 5:\n",
    "    u1 = pd.read_csv(\"u5base.csv\")"
   ]
  },
  {
   "cell_type": "code",
   "execution_count": 1283,
   "metadata": {},
   "outputs": [
    {
     "name": "stdout",
     "output_type": "stream",
     "text": [
      "6400\n"
     ]
    }
   ],
   "source": [
    "#查看大小\n",
    "# print(u1.shape[0])\n",
    "m = u1.shape[0]  # 训练集评分行为数量\n",
    "print(m)"
   ]
  },
  {
   "cell_type": "code",
   "execution_count": 1284,
   "metadata": {},
   "outputs": [],
   "source": [
    "#把csv表转化为矩阵  横坐标用户id，纵坐标电源id，值为评分\n",
    "# 建立评分矩阵\n",
    "number_user = int(max(u1[\"user_id\"])) # 获取用户数量，为943\n",
    "number_movies = int(max(u1[\"item_id\"])) # 获取电影数量，为1682\n",
    "N = number_user + number_movies # N = 用户数量 + 电影数量 = 2625\n",
    "# print(type(number_movies),number_user,N)\n",
    "score_matrix = np.zeros([number_user, number_movies])"
   ]
  },
  {
   "cell_type": "code",
   "execution_count": 1285,
   "metadata": {
    "scrolled": false
   },
   "outputs": [],
   "source": [
    "#对矩阵元素进行赋值\n",
    "for i in range(0, m):\n",
    "    score_matrix[int(u1[\"user_id\"][i]-1)][int(u1[\"item_id\"][i]-1)] = u1[\"score\"][i] # 填评分矩阵\n",
    "    # 由于下标从0开始，所以用户id和电影id需要-1"
   ]
  },
  {
   "cell_type": "code",
   "execution_count": 1286,
   "metadata": {
    "scrolled": true
   },
   "outputs": [
    {
     "name": "stdout",
     "output_type": "stream",
     "text": [
      "[[0.    0.    0.    ... 0.    0.    0.   ]\n",
      " [0.    0.    0.    ... 0.    0.    1.   ]\n",
      " [0.    0.    0.    ... 3.742 0.    4.537]\n",
      " ...\n",
      " [0.    0.    3.742 ... 0.    0.    0.   ]\n",
      " [0.    0.    0.    ... 0.    0.    0.   ]\n",
      " [0.    1.    4.537 ... 0.    0.    0.   ]]\n"
     ]
    }
   ],
   "source": [
    "#把评分矩阵放入另一个矩阵\n",
    "# score_matrix = np.pad(score_matrix, ((0,1682) , (943,0)), mode = 'constant', constant_values=(0, 0))\n",
    "adj_matrix = np.zeros((N, N))\n",
    "adj_matrix[0 : number_user, number_user : N] = score_matrix  # 异质网络右上角：评分矩阵\n",
    "adj_matrix += adj_matrix.T  # 异质网络左下角：评分矩阵转置\n",
    "print(adj_matrix)"
   ]
  },
  {
   "cell_type": "code",
   "execution_count": 1287,
   "metadata": {},
   "outputs": [],
   "source": [
    "#再建一个矩阵，第一行赋予任意值\n",
    "y = np.zeros((iter_num, N)) # y规模为 iter * 2625\n",
    "y[0, :] = np.random.rand(N) * math.pi/2 # y第一行所有值都处于[0, pi/2]之间"
   ]
  },
  {
   "cell_type": "code",
   "execution_count": 1288,
   "metadata": {},
   "outputs": [
    {
     "name": "stdout",
     "output_type": "stream",
     "text": [
      "e = 0 1 2 3 4 5 6 7 8 9 10 11 12 13 14 15 16 17 18 19 20 21 22 23 24 25 26 27 28 29 30 31 32 33 34 35 36 37 38 39 40 41 42 43 44 45 46 47 48 49 50 51 52 53 54 55 56 57 58 59 60 61 62 63 64 65 66 67 68 69 70 71 72 73 74 75 76 77 78 79 80 81 82 83 84 85 86 87 88 89 90 91 92 93 94 95 96 97 98 "
     ]
    }
   ],
   "source": [
    "#利用上面得到的打分矩阵（包含原矩阵&转置的那个）进行计算\n",
    "print(\"e =\", end=\" \")\n",
    "count = 0\n",
    "for e in range(0, iter_num - 1):\n",
    "    print(e, end=\" \")\n",
    "    for i in range(0, N):\n",
    "        a = 0\n",
    "        b = 0\n",
    "        # 找出adj_matrix里面满足要求的数据进行计算，结果放到y里面\n",
    "        # ---------------------------------\n",
    "        bigger_3 = np.where(adj_matrix[i, :] >= 10)  # 评分大于等于3，认为对项目感兴趣\n",
    "        a = a + sum(math.sin(x) for x in np.multiply(adj_matrix[i, bigger_3], (y[e, bigger_3] - y[e, i])).tolist()[0])\n",
    "\n",
    "        smaller_3 = np.where((adj_matrix[i, :] < 10) & (adj_matrix[i, :] >= 1))  # 评分小于3，认为对项目不感兴趣\n",
    "        b = b + sum(math.sin(x) for x in np.multiply(adj_matrix[i, smaller_3], (y[e, smaller_3] - y[e, i])).tolist()[0])\n",
    "        # # ---------------------------------#\n",
    "        # bigger_3 = np.where(adj_matrix[i, :] >= 80)  # 评分大于等于3，认为对项目感兴趣\n",
    "        # a = a + sum(math.sin(x) for x in np.multiply(adj_matrix[i, bigger_3], (y[e, bigger_3] - y[e, i])).tolist()[0])\n",
    "        #\n",
    "        # smaller_3 = np.where((adj_matrix[i, :] < 80) & (adj_matrix[i, :] >= 1))  # 评分小于3，认为对项目不感兴趣\n",
    "        # b = b + sum(math.sin(x) for x in np.multiply(adj_matrix[i, smaller_3], (y[e, smaller_3] - y[e, i])).tolist()[0])\n",
    "\n",
    "    #用分数矩阵和y矩阵的第e行，算第e+1行\n",
    "        y[e + 1, i] = alpha * y[e, i]- 0.05 * y[e, i]* y[e, i]  + (K1 / N * a + K2 / N * b)\n",
    "        \n",
    "    if np.linalg.norm(y[e + 1, :] - y[e, i]) < 1e-3:  # 矩阵y第e+1行所有值都减去y(e,i)\n",
    "        break\n",
    "    count = e + 1"
   ]
  },
  {
   "cell_type": "code",
   "execution_count": 1289,
   "metadata": {},
   "outputs": [],
   "source": [
    "#画图看一下上面的处理结果\n",
    "temp_x = range(0, iter_num - 2)  # 作图x轴取值\n",
    "temp_y = y[1:e+1, :]  # 作图y轴取值"
   ]
  },
  {
   "cell_type": "code",
   "execution_count": 1290,
   "metadata": {},
   "outputs": [
    {
     "data": {
      "text/plain": "<Figure size 432x288 with 1 Axes>",
      "image/png": "[encoded data removed]"
     },
     "metadata": {
      "needs_background": "light"
     },
     "output_type": "display_data"
    }
   ],
   "source": [
    "#画图看一下\n",
    "plt.plot(temp_x, temp_y)\n",
    "plt.show()"
   ]
  },
  {
   "cell_type": "code",
   "execution_count": 1291,
   "metadata": {},
   "outputs": [
    {
     "name": "stdout",
     "output_type": "stream",
     "text": [
      "KMeans(n_clusters=3)\n"
     ]
    }
   ],
   "source": [
    "#k均值聚类\n",
    "a = KMeans(n_clusters=3).fit(y[count-2: count-1, 0: number_user].T)  # 聚类\n",
    "print(a)"
   ]
  },
  {
   "cell_type": "code",
   "execution_count": 1292,
   "metadata": {
    "scrolled": true
   },
   "outputs": [
    {
     "name": "stdout",
     "output_type": "stream",
     "text": [
      "0: 167\n",
      "1: 43\n",
      "2: 1\n"
     ]
    },
    {
     "data": {
      "text/plain": "numpy.ndarray"
     },
     "execution_count": 1292,
     "metadata": {},
     "output_type": "execute_result"
    }
   ],
   "source": [
    "#看前3个聚类结果\n",
    "b = a.labels_ # 观察聚类结果\n",
    "for i in range(0, Ucluster_number):\n",
    "    print('%d:'% i, sum(b == i))\n",
    "type(b)"
   ]
  },
  {
   "cell_type": "code",
   "execution_count": 1293,
   "metadata": {},
   "outputs": [],
   "source": [
    "index = [0]*Ucluster_number\n",
    "sim_matrix = [0]*Ucluster_number"
   ]
  },
  {
   "cell_type": "code",
   "execution_count": 1294,
   "metadata": {},
   "outputs": [],
   "source": [
    "#这是干了个啥:好像是做什么相似化处理\n",
    "for i in range(0, Ucluster_number):\n",
    "    temp = np.where(b[:] == i)\n",
    "    data = score_matrix[temp, :]\n",
    "    index[i] = temp\n",
    "    sim_matrix[i] = SimilitudItems(data[0].T, 'cosine')"
   ]
  },
  {
   "cell_type": "code",
   "execution_count": 1295,
   "metadata": {},
   "outputs": [],
   "source": [
    "# data = score_matrix[temp, :]\n",
    "# data[0].shape"
   ]
  },
  {
   "cell_type": "code",
   "execution_count": 1296,
   "metadata": {},
   "outputs": [],
   "source": [
    "# 读测试集，预测开始\n",
    "if mycase == 1:\n",
    "    # u2 = uf\n",
    "    u2 = pd.read_csv(\"features_Random.csv\")\n",
    "    # print(u2)\n",
    "    # u2 = pd.concat([uf,u2],axis=0,ignore_index=True)\n",
    "    # u2 = u2.iloc[0:1000,:]\n",
    "    # print(u2)\n",
    "    # u2 = uf\n",
    "    # u2=pd.concat([u2,uf],axis=0)\n",
    "    # u2 = pd.read_csv(\"u1test.csv\")\n",
    "elif mycase == 2:\n",
    "    u2 = pd.read_csv(\"u2test.csv\")\n",
    "elif mycase == 3:\n",
    "    u2 = pd.read_csv(\"u3test.csv\")\n",
    "elif mycase == 4:\n",
    "    u2 = pd.read_csv(\"u4test.csv\")\n",
    "elif mycase == 5:\n",
    "    u2 = pd.read_csv(\"u5test.csv\")"
   ]
  },
  {
   "cell_type": "code",
   "execution_count": 1297,
   "metadata": {
    "scrolled": true
   },
   "outputs": [
    {
     "name": "stdout",
     "output_type": "stream",
     "text": [
      "     user_id  item_id     score  time\n",
      "0          1       33   276.255   NaN\n",
      "1          1       69   217.024   NaN\n",
      "2          1       55  1014.636   NaN\n",
      "3          1       35   173.076   NaN\n",
      "4          1       29   442.639   NaN\n",
      "..       ...      ...       ...   ...\n",
      "995      208       88    14.969   NaN\n",
      "996      209       88     7.484   NaN\n",
      "997      210       80    12.972   NaN\n",
      "998      210       71   308.032   NaN\n",
      "999      211        6    39.920   NaN\n",
      "\n",
      "[1000 rows x 4 columns]\n"
     ]
    }
   ],
   "source": [
    "# u2 = u2[:6437]\n",
    "pp = np.where(u2[\"item_id\"] > max(u1[\"item_id\"]))  # 出现在测试集中，但没有出现在训练集中的项目\n",
    "print(u2)"
   ]
  },
  {
   "cell_type": "code",
   "execution_count": 1298,
   "metadata": {},
   "outputs": [],
   "source": [
    "m = u2.shape[0]\n",
    "Predict_score = np.zeros((m, 1))  # 预测分数矩阵，规模为20000 * 1"
   ]
  },
  {
   "cell_type": "code",
   "execution_count": 1299,
   "metadata": {},
   "outputs": [
    {
     "data": {
      "text/plain": "1000"
     },
     "execution_count": 1299,
     "metadata": {},
     "output_type": "execute_result"
    }
   ],
   "source": [
    "m"
   ]
  },
  {
   "cell_type": "code",
   "execution_count": 1300,
   "metadata": {},
   "outputs": [
    {
     "name": "stdout",
     "output_type": "stream",
     "text": [
      "2 "
     ]
    }
   ],
   "source": [
    "i = 2\n",
    "print(i, end=\" \")\n",
    "user = u2[\"user_id\"][i]  # 获取测试集中第i个用户的id\n",
    "item = u2[\"item_id\"][i]  # 获取测试集中第i个电影的id\n",
    "no2 = b[user-1]  # no2表示id为user的这个用户属于哪一个社区\n",
    "user1 = np.where(index[no2][0] == user-1)\n",
    "# 以下是计算基于用户的协同过滤\n",
    "up_score_matrix = score_matrix[index[no2][0]]  # 获取同社区的用户评分矩阵"
   ]
  },
  {
   "cell_type": "code",
   "execution_count": 1301,
   "metadata": {},
   "outputs": [
    {
     "data": {
      "text/plain": "(43, 90)"
     },
     "execution_count": 1301,
     "metadata": {},
     "output_type": "execute_result"
    }
   ],
   "source": [
    "up_score_matrix.shape"
   ]
  },
  {
   "cell_type": "code",
   "execution_count": 1302,
   "metadata": {},
   "outputs": [
    {
     "name": "stdout",
     "output_type": "stream",
     "text": [
      "0.0 k "
     ]
    }
   ],
   "source": [
    "for i in range(0, 1000):\n",
    "    if i % 1000 == 0:\n",
    "        print(i/1000, 'k', end=\" \")\n",
    "    user = u2[\"user_id\"][i]  # 获取测试集中第i个用户的id\n",
    "    item = u2[\"item_id\"][i]  # 获取测试集中第i个电影的id\n",
    "    no2 = b[user-1]  # no2表示id为user的这个用户属于哪一个社区\n",
    "    user1 = np.where(index[no2][0] == user-1)\n",
    "    # 以下是计算基于用户的协同过滤\n",
    "    up_score_matrix = score_matrix[index[no2][0]] # 获取同社区的用户评分矩阵\n",
    "    # BB = np.where(up_score_matrix[user1[0][0],:] != 0)  # 与user处于同社区的评分矩阵中第user1个用户已评分的电影id\n",
    "    BB = np.where(up_score_matrix[user1[0][0],:] != -1)\n",
    "    aver_score = np.mean(up_score_matrix[user1[0][0], BB],1)  # 该用户对已评分项目的平均值\n",
    "    P_u = np.where(up_score_matrix[:,item-1] != 0)\n",
    "    # P_u = np.where(int(up_score_matrix[:,item-1]) != 0)  # P_u记录与user处于同社区，看过id=item电影的用户在该社区的索引\n",
    "    if len(P_u) == 0:\n",
    "        i = 0\n",
    "        Predict_score[i] = round(aver_score[0])\n",
    "    else:\n",
    "        P_u_sim = sim_matrix[no2][user1[0][0]][P_u[0]]  # 计算待评价用户与已评价用户的相似度\n",
    "        s = pd.Series(P_u_sim).sort_values(ascending = False)[:]\n",
    "        index1 = s.index.tolist()\n",
    "        num1 = len(index1)\n",
    "        if num1 >= neibor_num: # 如果index1记录的id比neibor_num还多，只要前neibor_num个\n",
    "            neibor = [0 for i in range(neibor_num)]\n",
    "            a_score = [0 for i in range(neibor_num)]\n",
    "            for k in range(0, neibor_num):\n",
    "                neibor[k] = P_u[0][index1[k]]\n",
    "        else:\n",
    "            neibor = [0 for i in range(num1)]\n",
    "            a_score = [0 for i in range(num1)]\n",
    "            for k in range(0, num1):\n",
    "                neibor[k] = P_u[0][index1[k]]\n",
    "        sum1 = 0\n",
    "        sum2 = 0\n",
    "        for j in range(0, len(neibor)):\n",
    "            BB = np.where(up_score_matrix[neibor[j], :] != 0)\n",
    "            a_score[j] = np.mean(up_score_matrix[neibor[j], BB], 1)\n",
    "            sum1 += sim_matrix[no2][user1,neibor[j]] * (up_score_matrix[neibor[j],item-1] - a_score[j])\n",
    "            sum2 += sim_matrix[no2][user1,neibor[j]]\n",
    "        if sum2 == 0:   # 没有和带预测项目相似的项目\n",
    "            Predict_score[i] = np.round(aver_score[0]) # 排除分母为零的情况\n",
    "        else:\n",
    "            Predict_score[i] = np.round(aver_score[0] + sum1[0][0] / sum2[0][0])\n",
    "    if Predict_score[i] > 5:\n",
    "        Predict_score[i] = 5\n",
    "    elif Predict_score[i] < 1:\n",
    "        Predict_score[i] = 1\n",
    "    elif Predict_score[i] == None: # 如果数值为None\n",
    "        Predict_score[i] = np.round(aver_score) # round用于舍入到最接近的整数"
   ]
  },
  {
   "cell_type": "code",
   "execution_count": 1303,
   "metadata": {
    "scrolled": false
   },
   "outputs": [],
   "source": [
    "# Predict_score"
   ]
  },
  {
   "cell_type": "code",
   "execution_count": 1304,
   "metadata": {
    "scrolled": true
   },
   "outputs": [],
   "source": [
    "ans1 = u2[\"score\"][:].values.tolist()\n",
    "ans2 = Predict_score.tolist()"
   ]
  },
  {
   "cell_type": "code",
   "execution_count": 1305,
   "metadata": {},
   "outputs": [],
   "source": [
    "Eval = [0 for i in range(len(ans1))]\n",
    "for i in range(len(ans1)):\n",
    "    Eval[i] = abs(ans1[i] - ans2[i][0])"
   ]
  },
  {
   "cell_type": "code",
   "execution_count": 1306,
   "metadata": {},
   "outputs": [
    {
     "data": {
      "text/plain": "862.0514809999992"
     },
     "execution_count": 1306,
     "metadata": {},
     "output_type": "execute_result"
    }
   ],
   "source": [
    "MAE = sum(Eval) / m\n",
    "MAE"
   ]
  },
  {
   "cell_type": "code",
   "execution_count": 1307,
   "metadata": {},
   "outputs": [
    {
     "data": {
      "text/plain": "2579.4459268081964"
     },
     "execution_count": 1307,
     "metadata": {},
     "output_type": "execute_result"
    }
   ],
   "source": [
    "RMSE = math.sqrt(np.dot(Eval, Eval) / m)\n",
    "RMSE"
   ]
  },
  {
   "cell_type": "code",
   "execution_count": 1308,
   "metadata": {},
   "outputs": [],
   "source": [
    "m1 = u2.shape[0]\n",
    "n1 = u2.shape[1]"
   ]
  },
  {
   "cell_type": "code",
   "execution_count": 1309,
   "metadata": {},
   "outputs": [],
   "source": [
    "number_user1 = max(u2[\"user_id\"])\n",
    "number_movies1 = max(u2[\"item_id\"])\n",
    "score_matrix11 = np.zeros([number_user1, number_movies1])"
   ]
  },
  {
   "cell_type": "code",
   "execution_count": 1310,
   "metadata": {},
   "outputs": [],
   "source": [
    "u2 = u2.rename(columns={'time':'Pre_score'})"
   ]
  },
  {
   "cell_type": "code",
   "execution_count": 1311,
   "metadata": {},
   "outputs": [
    {
     "name": "stderr",
     "output_type": "stream",
     "text": [
      "C:\\Users\\dly\\AppData\\Local\\Temp/ipykernel_15604/3805645817.py:3: SettingWithCopyWarning: \n",
      "A value is trying to be set on a copy of a slice from a DataFrame\n",
      "\n",
      "See the caveats in the documentation: https://pandas.pydata.org/pandas-docs/stable/user_guide/indexing.html#returning-a-view-versus-a-copy\n",
      "  u2[\"Pre_score\"][i] = Predict_score[i] # u2从20000*4矩阵变为20000*5矩阵，多了一列预测评分\n"
     ]
    }
   ],
   "source": [
    "for i in range(0, m1):\n",
    "    score_matrix11[u2[\"user_id\"][i]-1][u2[\"item_id\"][i]-1] = u2[\"score\"][i]\n",
    "    u2[\"Pre_score\"][i] = Predict_score[i] # u2从20000*4矩阵变为20000*5矩阵，多了一列预测评分"
   ]
  },
  {
   "cell_type": "code",
   "execution_count": 1312,
   "metadata": {},
   "outputs": [
    {
     "data": {
      "text/plain": "   user_id  item_id     score  Pre_score\n0        1       33   276.255        5.0\n1        1       69   217.024        1.0\n2        1       55  1014.636        5.0\n3        1       35   173.076        5.0\n4        1       29   442.639        5.0",
      "text/html": "<div>\n<style scoped>\n    .dataframe tbody tr th:only-of-type {\n        vertical-align: middle;\n    }\n\n    .dataframe tbody tr th {\n        vertical-align: top;\n    }\n\n    .dataframe thead th {\n        text-align: right;\n    }\n</style>\n<table border=\"1\" class=\"dataframe\">\n  <thead>\n    <tr style=\"text-align: right;\">\n      <th></th>\n      <th>user_id</th>\n      <th>item_id</th>\n      <th>score</th>\n      <th>Pre_score</th>\n    </tr>\n  </thead>\n  <tbody>\n    <tr>\n      <th>0</th>\n      <td>1</td>\n      <td>33</td>\n      <td>276.255</td>\n      <td>5.0</td>\n    </tr>\n    <tr>\n      <th>1</th>\n      <td>1</td>\n      <td>69</td>\n      <td>217.024</td>\n      <td>1.0</td>\n    </tr>\n    <tr>\n      <th>2</th>\n      <td>1</td>\n      <td>55</td>\n      <td>1014.636</td>\n      <td>5.0</td>\n    </tr>\n    <tr>\n      <th>3</th>\n      <td>1</td>\n      <td>35</td>\n      <td>173.076</td>\n      <td>5.0</td>\n    </tr>\n    <tr>\n      <th>4</th>\n      <td>1</td>\n      <td>29</td>\n      <td>442.639</td>\n      <td>5.0</td>\n    </tr>\n  </tbody>\n</table>\n</div>"
     },
     "execution_count": 1312,
     "metadata": {},
     "output_type": "execute_result"
    }
   ],
   "source": [
    "u2.head()"
   ]
  },
  {
   "cell_type": "code",
   "execution_count": 1313,
   "metadata": {},
   "outputs": [],
   "source": [
    "s1 = 0\n",
    "s2 = 0\n",
    "s3 = 0"
   ]
  },
  {
   "cell_type": "code",
   "execution_count": 1314,
   "metadata": {
    "scrolled": true
   },
   "outputs": [
    {
     "data": {
      "text/plain": "211"
     },
     "execution_count": 1314,
     "metadata": {},
     "output_type": "execute_result"
    }
   ],
   "source": [
    "number_user1"
   ]
  },
  {
   "cell_type": "code",
   "execution_count": 1315,
   "metadata": {
    "scrolled": true
   },
   "outputs": [],
   "source": [
    "# Predict_score"
   ]
  },
  {
   "cell_type": "code",
   "execution_count": 1316,
   "metadata": {},
   "outputs": [],
   "source": [
    "for i in range(0, number_user1):\n",
    "#     print(i, end=\" \")\n",
    "    q1 = np.where(u2[\"user_id\"] == i+1)[0]\n",
    "    q2 = u2[\"item_id\"][q1] # 测试集中用户评价的所有项目\n",
    "    q3 = np.where(u2[\"score\"][q1] >= 3)[0] # 测试集中用户喜欢的项目\n",
    "    q4 = np.where(Predict_score[q1] >= 3)[0] # 预测评分大于3的项目\n",
    "    q5 = q2.iloc[q3]\n",
    "    q6 = q2.iloc[q4]\n",
    "    q7 = set(q5).intersection(set(q6))\n",
    "    s1 = s1 + len(q7); # 用户喜欢，并且预测用户也喜欢\n",
    "    s2 = s2 + len(q2); # 用户评价的所有项目\n",
    "    s3 = s3 + len(q3);"
   ]
  },
  {
   "cell_type": "code",
   "execution_count": 1317,
   "metadata": {},
   "outputs": [
    {
     "name": "stdout",
     "output_type": "stream",
     "text": [
      "s1: 781\n",
      "s2: 1000\n",
      "s3: 999\n"
     ]
    }
   ],
   "source": [
    "print('s1:',s1)\n",
    "print('s2:',s2)\n",
    "print('s3:',s3)"
   ]
  },
  {
   "cell_type": "code",
   "execution_count": 1318,
   "metadata": {},
   "outputs": [],
   "source": [
    "# 计算 Precision, Recall, F1\n",
    "Recall = s1 / s2 * 100  # 用户喜欢，并且预测用户也喜欢 占 用户评价所有项目的百分比\n",
    "Precision = s1 / s3 * 100  # 用户喜欢，并且预测用户也喜欢 占 用户喜欢项目的百分比\n",
    "F1 = 2 * Recall * Precision / (Recall + Precision)"
   ]
  },
  {
   "cell_type": "code",
   "execution_count": 1319,
   "metadata": {},
   "outputs": [
    {
     "data": {
      "text/plain": "78.10000000000001"
     },
     "execution_count": 1319,
     "metadata": {},
     "output_type": "execute_result"
    }
   ],
   "source": [
    "Recall"
   ]
  },
  {
   "cell_type": "code",
   "execution_count": 1320,
   "metadata": {},
   "outputs": [
    {
     "data": {
      "text/plain": "78.17817817817819"
     },
     "execution_count": 1320,
     "metadata": {},
     "output_type": "execute_result"
    }
   ],
   "source": [
    "Precision"
   ]
  },
  {
   "cell_type": "code",
   "execution_count": 1321,
   "metadata": {},
   "outputs": [
    {
     "data": {
      "text/plain": "78.13906953476739"
     },
     "execution_count": 1321,
     "metadata": {},
     "output_type": "execute_result"
    }
   ],
   "source": [
    "F1"
   ]
  },
  {
   "cell_type": "code",
   "execution_count": 1322,
   "metadata": {},
   "outputs": [
    {
     "name": "stdout",
     "output_type": "stream",
     "text": [
      "2.69  seconds\n"
     ]
    }
   ],
   "source": [
    "end = time.time()\n",
    "runtime = round(end-start, 2)\n",
    "print(runtime, \" seconds\")"
   ]
  }
 ],
 "metadata": {
  "kernelspec": {
   "display_name": "Python 3",
   "language": "python",
   "name": "python3"
  },
  "language_info": {
   "codemirror_mode": {
    "name": "ipython",
    "version": 3
   },
   "file_extension": ".py",
   "mimetype": "text/x-python",
   "name": "python",
   "nbconvert_exporter": "python",
   "pygments_lexer": "ipython3",
   "version": "3.7.0"
  }
 },
 "nbformat": 4,
 "nbformat_minor": 4
}