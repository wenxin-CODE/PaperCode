{
 "cells": [
  {
   "cell_type": "code",
   "execution_count": 2658,
   "metadata": {},
   "outputs": [],
   "source": [
    "# import os\n",
    "# import tensorflow as tf\n",
    "# print(tf.device('/gpu:0'))\n",
    "# os.environ['CUDA_VISIBLE_DEVICES'] = \"0\""
   ]
  },
  {
   "cell_type": "code",
   "execution_count": 2659,
   "metadata": {},
   "outputs": [],
   "source": [
    "#导包\n",
    "import numpy as np\n",
    "import pandas as pd\n",
    "import matplotlib.pyplot as plt\n",
    "import random\n",
    "import math\n",
    "import time\n",
    "# from keras import metrics\n",
    "\n",
    "from sklearn.model_selection import train_test_split\n",
    "from sklearn.linear_model import LinearRegression\n",
    "from sklearn.metrics import mean_absolute_error, mean_squared_error, roc_auc_score, average_precision_score, f1_score\n",
    "from sklearn.preprocessing import PolynomialFeatures\n",
    "from sklearn.cluster import KMeans\n",
    "from sklearn.decomposition import PCA\n",
    "\n",
    "# from numba import jit\n",
    "# @jit(nopython==True)"
   ]
  },
  {
   "cell_type": "code",
   "execution_count": 2660,
   "metadata": {},
   "outputs": [],
   "source": [
    "#导入方法\n",
    "from SimilitudItems import *"
   ]
  },
  {
   "cell_type": "code",
   "execution_count": 2661,
   "metadata": {},
   "outputs": [],
   "source": [
    "# start = time.time()"
   ]
  },
  {
   "cell_type": "code",
   "execution_count": 2662,
   "metadata": {},
   "outputs": [],
   "source": [
    "#初始化一些参数\n",
    "K1 = 3\n",
    "K2 = -10\n",
    "beta = 0.15\n",
    "alpha = 0.85 #两个K和alpha在处理打分矩阵时候用到\n",
    "Ucluster_number = 3 #输出聚类结果的前三个\n",
    "iter_num = 50 #y的行数\n",
    "Proportion = 1024 #训练集&测试集数据比例"
   ]
  },
  {
   "cell_type": "code",
   "execution_count": 2663,
   "metadata": {},
   "outputs": [],
   "source": [
    "#初始化参数\n",
    "mycase = 1   # 读取哪个数据集\n",
    "neibor_num = 40  # 邻居数\n",
    "inter_value = 40 # 动力学演化中间值"
   ]
  },
  {
   "cell_type": "code",
   "execution_count": 2664,
   "metadata": {},
   "outputs": [
    {
     "name": "stdout",
     "output_type": "stream",
     "text": [
      "<class 'pandas.core.frame.DataFrame'>\n",
      "5413\n"
     ]
    }
   ],
   "source": [
    "#读取数据\n",
    "# 读训练集\n",
    "if mycase == 1:\n",
    "    u = pd.read_csv(\"features.csv\")\n",
    "    print(type(u))\n",
    "    # 分成训练和测试两块\n",
    "    uf = u.sample(Proportion)\n",
    "    u1 = u.drop(uf.index)\n",
    "    u1.reset_index(drop=True, inplace=True)\n",
    "    uf.reset_index(drop=True, inplace=True)\n",
    "    print(len(u1))\n",
    "    # print(u1,u2)\n",
    "    # print(u)\n",
    "    # for i in range(len(u)):\n",
    "    #     if (u.loc[i,\"score\"]<100.0):\n",
    "    #         u.loc[i,\"score\"] = 10.0\n",
    "    #     elif (100.0<u.loc[i,\"score\"]<1000.0):\n",
    "    #         u.loc[i,\"score\"] = 20.0\n",
    "    #     elif (1000.0<u.loc[i, \"score\"] < 10000.0):\n",
    "    #         u.loc[i, \"score\"] = 30.0\n",
    "    #     elif (10000.0<u.loc[i, \"score\"] < 100000.0):\n",
    "    #         u.loc[i, \"score\"] = 40.0\n",
    "    # print(u)\n",
    "    # u1 = u.iloc[:6400,:]\n",
    "    # uf = u.iloc[6400:,:]\n",
    "    # print(uf)\n",
    "    # u1 = pd.read_csv(\"u1base.csv\")\n",
    "elif mycase == 2:\n",
    "    u1 = pd.read_csv(\"u2base.csv\")\n",
    "elif mycase == 3:\n",
    "    u1 = pd.read_csv(\"u3base.csv\")\n",
    "elif mycase == 4:\n",
    "    u1 = pd.read_csv(\"u4base.csv\")\n",
    "elif mycase == 5:\n",
    "    u1 = pd.read_csv(\"u5base.csv\")"
   ]
  },
  {
   "cell_type": "code",
   "execution_count": 2665,
   "metadata": {},
   "outputs": [
    {
     "name": "stdout",
     "output_type": "stream",
     "text": [
      "      user_id  item_id    score  time\n",
      "0           1        6    1.996   NaN\n",
      "1           1       10   11.961   NaN\n",
      "2           1       15  186.073   NaN\n",
      "3           1       21  192.628   NaN\n",
      "4           1       22   83.288   NaN\n",
      "...       ...      ...      ...   ...\n",
      "5408      212       59   37.387   NaN\n",
      "5409      212       69   42.005   NaN\n",
      "5410      212       70   42.586   NaN\n",
      "5411      212       71   61.606   NaN\n",
      "5412      212       86   13.859   NaN\n",
      "\n",
      "[5413 rows x 4 columns]\n"
     ]
    }
   ],
   "source": [
    "#查看大小\n",
    "# print(u1.shape[0])\n",
    "m = u1.shape[0]  # 训练集评分行为数量\n",
    "print(u1)"
   ]
  },
  {
   "cell_type": "code",
   "execution_count": 2666,
   "metadata": {},
   "outputs": [],
   "source": [
    "#把csv表转化为矩阵  横坐标用户id，纵坐标电源id，值为评分\n",
    "# 建立评分矩阵\n",
    "number_user = int(max(u1[\"user_id\"])) # 获取用户数量，为943\n",
    "number_movies = int(max(u1[\"item_id\"])) # 获取电影数量，为1682\n",
    "N = number_user + number_movies # N = 用户数量 + 电影数量 = 2625\n",
    "# print(type(number_movies),number_user,N)\n",
    "score_matrix = np.zeros([number_user, number_movies])"
   ]
  },
  {
   "cell_type": "code",
   "execution_count": 2667,
   "metadata": {
    "scrolled": false
   },
   "outputs": [],
   "source": [
    "#对矩阵元素进行赋值\n",
    "for i in range(0, m):\n",
    "    score_matrix[int(u1[\"user_id\"][i]-1)][int(u1[\"item_id\"][i]-1)] = u1[\"score\"][i] # 填评分矩阵\n",
    "    # 由于下标从0开始，所以用户id和电影id需要-1"
   ]
  },
  {
   "cell_type": "code",
   "execution_count": 2668,
   "metadata": {
    "scrolled": true
   },
   "outputs": [
    {
     "name": "stdout",
     "output_type": "stream",
     "text": [
      "[[0.    0.    0.    ... 0.    0.    0.   ]\n",
      " [0.    0.    0.    ... 0.    0.    0.   ]\n",
      " [0.    0.    0.    ... 3.742 0.    4.537]\n",
      " ...\n",
      " [0.    0.    3.742 ... 0.    0.    0.   ]\n",
      " [0.    0.    0.    ... 0.    0.    0.   ]\n",
      " [0.    0.    4.537 ... 0.    0.    0.   ]]\n"
     ]
    }
   ],
   "source": [
    "#把评分矩阵放入另一个矩阵\n",
    "# score_matrix = np.pad(score_matrix, ((0,1682) , (943,0)), mode = 'constant', constant_values=(0, 0))\n",
    "adj_matrix = np.zeros((N, N))\n",
    "adj_matrix[0 : number_user, number_user : N] = score_matrix  # 异质网络右上角：评分矩阵\n",
    "adj_matrix += adj_matrix.T  # 异质网络左下角：评分矩阵转置\n",
    "print(adj_matrix)"
   ]
  },
  {
   "cell_type": "code",
   "execution_count": 2669,
   "metadata": {},
   "outputs": [],
   "source": [
    "#再建一个矩阵，第一行赋予任意值\n",
    "y = np.zeros((iter_num, N)) # y规模为 iter * 2625\n",
    "y[0, :] = np.random.rand(N) * math.pi/2 # y第一行所有值都处于[0, pi/2]之间"
   ]
  },
  {
   "cell_type": "code",
   "execution_count": 2670,
   "metadata": {},
   "outputs": [
    {
     "name": "stdout",
     "output_type": "stream",
     "text": [
      "e = 0 1 2 3 4 5 6 7 8 9 10 11 12 13 14 15 16 17 18 19 20 21 22 23 24 25 26 27 28 29 30 31 32 33 34 35 36 37 38 39 40 41 42 43 44 45 46 47 48 "
     ]
    }
   ],
   "source": [
    "#利用上面得到的打分矩阵（包含原矩阵&转置的那个）进行计算\n",
    "print(\"e =\", end=\" \")\n",
    "count = 0\n",
    "for e in range(0, iter_num - 1):\n",
    "    print(e, end=\" \")\n",
    "    for i in range(0, N):\n",
    "        a = 0\n",
    "        b = 0\n",
    "        # 找出adj_matrix里面满足要求的数据进行计算，结果放到y里面\n",
    "        # ---------------------------------\n",
    "        bigger_3 = np.where(adj_matrix[i, :] >= inter_value)  # 评分大于等于3，认为对项目感兴趣\n",
    "        a = a + sum(math.sin(x) for x in np.multiply(adj_matrix[i, bigger_3], (y[e, bigger_3] - y[e, i])).tolist()[0])\n",
    "\n",
    "        smaller_3 = np.where((adj_matrix[i, :] < inter_value) & (adj_matrix[i, :] >= 1))  # 评分小于3，认为对项目不感兴趣\n",
    "        b = b + sum(math.sin(x) for x in np.multiply(adj_matrix[i, smaller_3], (y[e, smaller_3] - y[e, i])).tolist()[0])\n",
    "        # # ---------------------------------#\n",
    "        # bigger_3 = np.where(adj_matrix[i, :] >= 80)  # 评分大于等于3，认为对项目感兴趣\n",
    "        # a = a + sum(math.sin(x) for x in np.multiply(adj_matrix[i, bigger_3], (y[e, bigger_3] - y[e, i])).tolist()[0])\n",
    "        #\n",
    "        # smaller_3 = np.where((adj_matrix[i, :] < 80) & (adj_matrix[i, :] >= 1))  # 评分小于3，认为对项目不感兴趣\n",
    "        # b = b + sum(math.sin(x) for x in np.multiply(adj_matrix[i, smaller_3], (y[e, smaller_3] - y[e, i])).tolist()[0])\n",
    "\n",
    "    #用分数矩阵和y矩阵的第e行，算第e+1行\n",
    "        y[e + 1, i] = alpha * y[e, i]- beta * y[e, i]* y[e, i]  + (K1 / N * a + K2 / N * b)\n",
    "        \n",
    "    if np.linalg.norm(y[e + 1, :] - y[e, i]) < 1e-3:  # 矩阵y第e+1行所有值都减去y(e,i)\n",
    "        break\n",
    "    count = e + 1"
   ]
  },
  {
   "cell_type": "code",
   "execution_count": 2671,
   "metadata": {},
   "outputs": [],
   "source": [
    "#画图看一下上面的处理结果\n",
    "temp_x = range(0, iter_num - 2)  # 作图x轴取值\n",
    "temp_y = y[1:e+1, :]  # 作图y轴取值"
   ]
  },
  {
   "cell_type": "code",
   "execution_count": 2672,
   "metadata": {},
   "outputs": [
    {
     "data": {
      "text/plain": "<Figure size 432x288 with 1 Axes>",
      "image/png": "[encoded data removed]"
     },
     "metadata": {
      "needs_background": "light"
     },
     "output_type": "display_data"
    }
   ],
   "source": [
    "#画图看一下\n",
    "plt.plot(temp_x, temp_y)\n",
    "plt.show()"
   ]
  },
  {
   "cell_type": "code",
   "execution_count": 2673,
   "metadata": {},
   "outputs": [
    {
     "name": "stdout",
     "output_type": "stream",
     "text": [
      "KMeans(n_clusters=3)\n"
     ]
    }
   ],
   "source": [
    "#k均值聚类\n",
    "a = KMeans(Ucluster_number).fit(y[count-2: count-1, 0: number_user].T)  # 聚类\n",
    "print(a)"
   ]
  },
  {
   "cell_type": "code",
   "execution_count": 2674,
   "metadata": {
    "scrolled": true
   },
   "outputs": [
    {
     "name": "stdout",
     "output_type": "stream",
     "text": [
      "0: 75\n",
      "1: 116\n",
      "2: 21\n"
     ]
    },
    {
     "data": {
      "text/plain": "numpy.ndarray"
     },
     "execution_count": 2674,
     "metadata": {},
     "output_type": "execute_result"
    }
   ],
   "source": [
    "#看前Ucluster_number个聚类结果\n",
    "b = a.labels_ # 观察聚类结果\n",
    "for i in range(0, Ucluster_number):\n",
    "    print('%d:'% i, sum(b == i))\n",
    "type(b)"
   ]
  },
  {
   "cell_type": "code",
   "execution_count": 2675,
   "metadata": {},
   "outputs": [],
   "source": [
    "index = [0]*Ucluster_number\n",
    "sim_matrix = [0]*Ucluster_number"
   ]
  },
  {
   "cell_type": "code",
   "execution_count": 2676,
   "metadata": {},
   "outputs": [],
   "source": [
    "#这是干了个啥:好像是做什么相似化处理\n",
    "for i in range(0, Ucluster_number):\n",
    "    temp = np.where(b[:] == i)\n",
    "    data = score_matrix[temp, :]\n",
    "    index[i] = temp\n",
    "    sim_matrix[i] = SimilitudItems(data[0].T, 'cosine')"
   ]
  },
  {
   "cell_type": "code",
   "execution_count": 2677,
   "metadata": {},
   "outputs": [],
   "source": [
    "# data = score_matrix[temp, :]\n",
    "# data[0].shape"
   ]
  },
  {
   "cell_type": "code",
   "execution_count": 2678,
   "metadata": {},
   "outputs": [],
   "source": [
    "# 读测试集，预测开始\n",
    "if mycase == 1:\n",
    "    # u2 = uf\n",
    "    # u2 = pd.read_csv(\"features_Random.csv\")\n",
    "    u2 = uf\n",
    "    # print(u2)\n",
    "    # u2 = pd.concat([uf,u2],axis=0,ignore_index=True)\n",
    "    # u2 = u2.iloc[0:1000,:]\n",
    "    # print(u2)\n",
    "    # u2 = uf\n",
    "    # u2=pd.concat([u2,uf],axis=0)\n",
    "    # u2 = pd.read_csv(\"u1test.csv\")\n",
    "elif mycase == 2:\n",
    "    u2 = pd.read_csv(\"u2test.csv\")\n",
    "elif mycase == 3:\n",
    "    u2 = pd.read_csv(\"u3test.csv\")\n",
    "elif mycase == 4:\n",
    "    u2 = pd.read_csv(\"u4test.csv\")\n",
    "elif mycase == 5:\n",
    "    u2 = pd.read_csv(\"u5test.csv\")"
   ]
  },
  {
   "cell_type": "code",
   "execution_count": 2679,
   "metadata": {
    "scrolled": true
   },
   "outputs": [
    {
     "name": "stdout",
     "output_type": "stream",
     "text": [
      "<bound method Series.unique of 0       89\n",
      "1       20\n",
      "2       79\n",
      "3       77\n",
      "4       63\n",
      "        ..\n",
      "1019    29\n",
      "1020    11\n",
      "1021     0\n",
      "1022    68\n",
      "1023    52\n",
      "Name: item_id, Length: 1024, dtype: int64>\n"
     ]
    }
   ],
   "source": [
    "# u2 = u2[:6437]\n",
    "pp = np.where(u2[\"item_id\"] > max(u1[\"item_id\"]))  # 出现在测试集中，但没有出现在训练集中的项目\n",
    "print(u2.item_id.unique)\n",
    "# print(pp)"
   ]
  },
  {
   "cell_type": "code",
   "execution_count": 2680,
   "metadata": {},
   "outputs": [],
   "source": [
    "m = u2.shape[0]\n",
    "Predict_score = np.zeros((m, 1))  # 预测分数矩阵，规模为20000 * 1"
   ]
  },
  {
   "cell_type": "code",
   "execution_count": 2681,
   "metadata": {},
   "outputs": [
    {
     "data": {
      "text/plain": "1024"
     },
     "execution_count": 2681,
     "metadata": {},
     "output_type": "execute_result"
    }
   ],
   "source": [
    "m\n"
   ]
  },
  {
   "cell_type": "code",
   "execution_count": 2682,
   "outputs": [
    {
     "name": "stdout",
     "output_type": "stream",
     "text": [
      "[[   0.       0.       0.    ...    0.       0.       0.   ]\n",
      " [   0.       0.       0.    ...    0.       0.    3488.795]\n",
      " [   0.       0.       0.    ...    0.       0.       0.   ]\n",
      " ...\n",
      " [   0.       0.       0.    ...    0.       0.     400.64 ]\n",
      " [   0.       0.       0.    ... 6220.463    0.     224.496]\n",
      " [   0.       0.       0.    ...    0.       0.       0.   ]]\n"
     ]
    }
   ],
   "source": [
    "#测试集评分矩阵\n",
    "score_matrix2 = np.zeros([212,90])\n",
    "for i in range(0, m):\n",
    "    score_matrix2[int(u2[\"user_id\"][i]-1)][int(u2[\"item_id\"][i]-1)] = u1[\"score\"][i] # 填评分矩阵\n",
    "print(score_matrix2)\n"
   ],
   "metadata": {
    "collapsed": false,
    "pycharm": {
     "name": "#%%\n"
    }
   }
  },
  {
   "cell_type": "code",
   "execution_count": 2683,
   "metadata": {},
   "outputs": [
    {
     "name": "stdout",
     "output_type": "stream",
     "text": [
      "2 "
     ]
    }
   ],
   "source": [
    "i = 2\n",
    "print(i, end=\" \")\n",
    "user = u2[\"user_id\"][i]  # 获取测试集中第i个用户的id\n",
    "item = u2[\"item_id\"][i]  # 获取测试集中第i个电影的id\n",
    "no2 = b[user-1]  # no2表示id为user的这个用户属于哪一个社区\n",
    "user1 = np.where(index[no2][0] == user-1)\n",
    "# 以下是计算基于用户的协同过滤\n",
    "up_score_matrix = score_matrix[index[no2][0]]  # 获取同社区的用户评分矩阵"
   ]
  },
  {
   "cell_type": "code",
   "execution_count": 2684,
   "metadata": {},
   "outputs": [
    {
     "name": "stdout",
     "output_type": "stream",
     "text": [
      "0         9.684\n",
      "1       452.782\n",
      "2        48.389\n",
      "3       183.672\n",
      "4       560.033\n",
      "         ...   \n",
      "1019    371.410\n",
      "1020     61.917\n",
      "1021    204.000\n",
      "1022    755.347\n",
      "1023    152.805\n",
      "Name: score, Length: 1024, dtype: float64\n"
     ]
    }
   ],
   "source": [
    "up_score_matrix.shape\n",
    "print(u2[\"score\"])"
   ]
  },
  {
   "cell_type": "code",
   "execution_count": 2685,
   "metadata": {},
   "outputs": [
    {
     "name": "stdout",
     "output_type": "stream",
     "text": [
      "0.0 k 1.0 k "
     ]
    },
    {
     "name": "stderr",
     "output_type": "stream",
     "text": [
      "C:\\Users\\dly\\AppData\\Local\\Temp/ipykernel_13172/86318834.py:52: FutureWarning: elementwise comparison failed; returning scalar instead, but in the future will perform elementwise comparison\n",
      "  if Predict_score[i] == 'NaN': # 如果数值为None\n"
     ]
    }
   ],
   "source": [
    "for i in range(0, Proportion):\n",
    "    if i % 1000 == 0:\n",
    "        print(i/1000, 'k', end=\" \")\n",
    "    user = u2[\"user_id\"][i]  # 获取测试集中第i个用户的id\n",
    "    item = u2[\"item_id\"][i]  # 获取测试集中第i个电影的id\n",
    "    no2 = b[user-1]  # no2表示id为user的这个用户属于哪一个社区\n",
    "    user1 = np.where(index[no2][0] == user-1)\n",
    "    # 以下是计算基于用户的协同过滤\n",
    "    up_score_matrix = score_matrix[index[no2][0]] # 获取同社区的用户评分矩阵\n",
    "    BB1 = np.where(up_score_matrix[user1[0][0],:] != 0)  # 与user处于同社区的评分矩阵中第user1个用户已评分的电影id\n",
    "    # 某一用户平均评分\n",
    "    aver_score1 = np.mean(up_score_matrix[user1[0][0], BB1],1)  # 该用户对已评分项目的平均值\n",
    "    BB = np.where(score_matrix[:, :] != 0)\n",
    "    # 所有用户平均评分\n",
    "    aver_score = np.mean(score_matrix[BB])\n",
    "\n",
    "    P_u = np.where(up_score_matrix[:,item-1] != 0)\n",
    "    # P_u = np.where(int(up_score_matrix[:,item-1]) != 0)  # P_u记录与user处于同社区，看过id=item电影的用户在该社区的索引\n",
    "    if len(P_u) == 0:\n",
    "        i = 0\n",
    "        Predict_score[i] = round(aver_score1)\n",
    "    else:\n",
    "        P_u_sim = sim_matrix[no2][user1[0][0]][P_u[0]]  # 计算待评价用户与已评价用户的相似度\n",
    "        s = pd.Series(P_u_sim).sort_values(ascending = False)[:]\n",
    "        index1 = s.index.tolist()\n",
    "        num1 = len(index1)\n",
    "        if num1 >= neibor_num: # 如果index1记录的id比neibor_num还多，只要前neibor_num个\n",
    "            neibor = [0 for i in range(neibor_num)]\n",
    "            a_score = [0 for i in range(neibor_num)]\n",
    "            for k in range(0, neibor_num):\n",
    "                neibor[k] = P_u[0][index1[k]]\n",
    "        else:\n",
    "            neibor = [0 for i in range(num1)]\n",
    "            a_score = [0 for i in range(num1)]\n",
    "            for k in range(0, num1):\n",
    "                neibor[k] = P_u[0][index1[k]]\n",
    "        sum1 = 0\n",
    "        sum2 = 0\n",
    "        for j in range(0, len(neibor)):\n",
    "            BB = np.where(up_score_matrix[neibor[j], :] != 0)\n",
    "            a_score[j] = np.mean(up_score_matrix[neibor[j], BB], 1)\n",
    "            sum1 += sim_matrix[no2][user1,neibor[j]] * (up_score_matrix[neibor[j],item-1] - a_score[j])\n",
    "            sum2 += sim_matrix[no2][user1,neibor[j]]\n",
    "        if sum2 == 0:   # 没有和带预测项目相似的项目\n",
    "            Predict_score[i] = np.round(aver_score1) # 排除分母为零的情况\n",
    "        else:\n",
    "            Predict_score[i] = np.round(aver_score1 + sum1[0][0] / sum2[0][0])\n",
    "    # if Predict_score[i] > 5:\n",
    "    #     Predict_score[i] = 5\n",
    "    # elif Predict_score[i] < 1:\n",
    "    #     Predict_score[i] = 1\n",
    "    if Predict_score[i] == 'NaN': # 如果数值为None\n",
    "        Predict_score[i] = np.round(aver_score1) # round用于舍入到最接近的整数\n",
    "\n",
    "\n",
    "\n",
    "# #136是测试集中不同rna的数量\n",
    "# disease = np.ones([212,90])\n",
    "# for i in range(0, 136):\n",
    "#     num_non_disease = 0\n",
    "#     RNA_id = u2[\"user_id\"][i]\n",
    "#     #统计没有评分的疾病\n",
    "#     for i in range(0,90):\n",
    "#         if score_matrix2[RNA_id][i] == 0:\n",
    "#             disease[RNA_id][i] = score_matrix2[RNA_id][i]\n",
    "#             num_non_disease=num_non_disease+1\n",
    "#     # if i % 1000 == 0:\n",
    "#     #     print(i/1000, 'k', end=\" \")\n",
    "#     user = u2[\"user_id\"][i]  # 获取测试集中第i个用户的id\n",
    "#     #对没有进行评分的疾病做预测\n",
    "#     for j in range(0,num_non_disease):\n",
    "#         # item = u2[\"item_id\"][i]  # 获取测试集中第i个电影的id\n",
    "#         item = disease[i][j]\n",
    "#         no2 = b[user-1]  # no2表示id为user的这个用户属于哪一个社区\n",
    "#         user1 = np.where(index[no2][0] == user-1)\n",
    "#         # 以下是计算基于用户的协同过滤\n",
    "#         up_score_matrix = score_matrix[index[no2][0]] # 获取同社区的用户评分矩阵\n",
    "#         # BB = np.where(up_score_matrix[user1[0][0],:] != 0)  # 与user处于同社区的评分矩阵中第user1个用户已评分的电影id\n",
    "#         # print(item)\n",
    "#         # print(up_score_matrix[user1[0][0],:])\n",
    "#         # print(up_score_matrix[:,int(item)-1])\n",
    "#         BB = np.where(up_score_matrix[user1[0][0],:] != -1)\n",
    "#         aver_score = np.mean(up_score_matrix[user1[0][0], BB],1)  # 该用户对已评分项目的平均值\n",
    "#         # print(\"=================\",np.where(up_score_matrix[:,item-1] != 0))\n",
    "#         P_u = np.where(up_score_matrix[:,int(item)-1] != 0)\n",
    "#         # print(int(up_score_matrix[:,item-1]))\n",
    "#         # P_u = np.where(int(up_score_matrix[:,item-1]) != 0)  # P_u记录与user处于同社区，看过id=item电影的用户在该社区的索引\n",
    "#         if len(P_u) == 0:\n",
    "#             i = 0\n",
    "#             Predict_score[i] = round(aver_score[0])\n",
    "#         else:\n",
    "#             P_u_sim = sim_matrix[no2][user1[0][0]][P_u[0]]  # 计算待评价用户与已评价用户的相似度\n",
    "#             s = pd.Series(P_u_sim).sort_values(ascending = False)[:]\n",
    "#             index1 = s.index.tolist()\n",
    "#             num1 = len(index1)\n",
    "#             if num1 >= neibor_num: # 如果index1记录的id比neibor_num还多，只要前neibor_num个\n",
    "#                 neibor = [0 for i in range(neibor_num)]\n",
    "#                 a_score = [0 for i in range(neibor_num)]\n",
    "#                 for k in range(0, neibor_num):\n",
    "#                     neibor[k] = P_u[0][index1[k]]\n",
    "#             else:\n",
    "#                 neibor = [0 for i in range(num1)]\n",
    "#                 a_score = [0 for i in range(num1)]\n",
    "#                 for k in range(0, num1):\n",
    "#                     neibor[k] = P_u[0][index1[k]]\n",
    "#             sum1 = 0\n",
    "#             sum2 = 0\n",
    "#             for j in range(0, len(neibor)):\n",
    "#                 BB = np.where(up_score_matrix[neibor[j], :] != 0)\n",
    "#                 a_score[j] = np.mean(up_score_matrix[neibor[j], BB], 1)\n",
    "#                 sum1 += sim_matrix[no2][user1,neibor[j]] * (up_score_matrix[neibor[j],int(item)-1] - a_score[j])\n",
    "#                 sum2 += sim_matrix[no2][user1,neibor[j]]\n",
    "#             if sum2 == 0:   # 没有和带预测项目相似的项目\n",
    "#                 Predict_score[i] = np.round(aver_score[0]) # 排除分母为零的情况\n",
    "#             else:\n",
    "#                 Predict_score[i] = np.round(aver_score[0] + sum1[0][0] / sum2[0][0])\n",
    "#         if Predict_score[i] > 5:\n",
    "#             Predict_score[i] = 5\n",
    "#         elif Predict_score[i] < 1:\n",
    "#             Predict_score[i] = 1\n",
    "#         elif Predict_score[i] == None: # 如果数值为None\n",
    "#             Predict_score[i] = np.round(aver_score) # round用于舍入到最接近的整数"
   ]
  },
  {
   "cell_type": "code",
   "execution_count": 2686,
   "metadata": {
    "scrolled": false
   },
   "outputs": [],
   "source": [
    "# Predict_score"
   ]
  },
  {
   "cell_type": "code",
   "execution_count": 2687,
   "metadata": {
    "scrolled": true
   },
   "outputs": [],
   "source": [
    "ans1 = u2[\"score\"][:].values.tolist()\n",
    "ans2 = Predict_score.tolist()"
   ]
  },
  {
   "cell_type": "code",
   "execution_count": 2688,
   "metadata": {},
   "outputs": [],
   "source": [
    "Eval = [0 for i in range(len(ans1))]\n",
    "for i in range(len(ans1)):\n",
    "    Eval[i] = abs(ans1[i] - ans2[i][0])"
   ]
  },
  {
   "cell_type": "code",
   "execution_count": 2689,
   "metadata": {},
   "outputs": [
    {
     "data": {
      "text/plain": "506.35693359375006"
     },
     "execution_count": 2689,
     "metadata": {},
     "output_type": "execute_result"
    }
   ],
   "source": [
    "MAE = sum(Eval) / m\n",
    "MAE"
   ]
  },
  {
   "cell_type": "code",
   "execution_count": 2690,
   "metadata": {},
   "outputs": [
    {
     "data": {
      "text/plain": "1200.0343886966505"
     },
     "execution_count": 2690,
     "metadata": {},
     "output_type": "execute_result"
    }
   ],
   "source": [
    "RMSE = math.sqrt(np.dot(Eval, Eval) / m)\n",
    "RMSE"
   ]
  },
  {
   "cell_type": "code",
   "execution_count": 2691,
   "metadata": {},
   "outputs": [],
   "source": [
    "m1 = u2.shape[0]\n",
    "n1 = u2.shape[1]"
   ]
  },
  {
   "cell_type": "code",
   "execution_count": 2692,
   "metadata": {},
   "outputs": [],
   "source": [
    "number_user1 = max(u2[\"user_id\"])\n",
    "number_movies1 = max(u2[\"item_id\"])\n",
    "score_matrix11 = np.zeros([number_user1, number_movies1])"
   ]
  },
  {
   "cell_type": "code",
   "execution_count": 2693,
   "metadata": {},
   "outputs": [],
   "source": [
    "u2 = u2.rename(columns={'time':'Pre_score'})"
   ]
  },
  {
   "cell_type": "code",
   "execution_count": 2694,
   "metadata": {},
   "outputs": [
    {
     "name": "stderr",
     "output_type": "stream",
     "text": [
      "C:\\Users\\dly\\AppData\\Local\\Temp/ipykernel_13172/3805645817.py:3: SettingWithCopyWarning: \n",
      "A value is trying to be set on a copy of a slice from a DataFrame\n",
      "\n",
      "See the caveats in the documentation: https://pandas.pydata.org/pandas-docs/stable/user_guide/indexing.html#returning-a-view-versus-a-copy\n",
      "  u2[\"Pre_score\"][i] = Predict_score[i] # u2从20000*4矩阵变为20000*5矩阵，多了一列预测评分\n"
     ]
    }
   ],
   "source": [
    "for i in range(0, m1):\n",
    "    score_matrix11[u2[\"user_id\"][i]-1][u2[\"item_id\"][i]-1] = u2[\"score\"][i]\n",
    "    u2[\"Pre_score\"][i] = Predict_score[i] # u2从20000*4矩阵变为20000*5矩阵，多了一列预测评分"
   ]
  },
  {
   "cell_type": "code",
   "execution_count": 2695,
   "metadata": {
    "pycharm": {
     "name": "#%%\n"
    }
   },
   "outputs": [
    {
     "name": "stderr",
     "output_type": "stream",
     "text": [
      "C:\\Users\\dly\\AppData\\Local\\Temp/ipykernel_13172/750448194.py:13: SettingWithCopyWarning: \n",
      "A value is trying to be set on a copy of a slice from a DataFrame\n",
      "\n",
      "See the caveats in the documentation: https://pandas.pydata.org/pandas-docs/stable/user_guide/indexing.html#returning-a-view-versus-a-copy\n",
      "  u2[\"score\"][i]=0\n",
      "C:\\Users\\dly\\AppData\\Local\\Temp/ipykernel_13172/750448194.py:11: SettingWithCopyWarning: \n",
      "A value is trying to be set on a copy of a slice from a DataFrame\n",
      "\n",
      "See the caveats in the documentation: https://pandas.pydata.org/pandas-docs/stable/user_guide/indexing.html#returning-a-view-versus-a-copy\n",
      "  u2[\"score\"][i]=1\n",
      "C:\\Users\\dly\\AppData\\Local\\Temp/ipykernel_13172/750448194.py:19: SettingWithCopyWarning: \n",
      "A value is trying to be set on a copy of a slice from a DataFrame\n",
      "\n",
      "See the caveats in the documentation: https://pandas.pydata.org/pandas-docs/stable/user_guide/indexing.html#returning-a-view-versus-a-copy\n",
      "  u2[\"Pre_score\"][i]=0\n",
      "C:\\Users\\dly\\AppData\\Local\\Temp/ipykernel_13172/750448194.py:17: SettingWithCopyWarning: \n",
      "A value is trying to be set on a copy of a slice from a DataFrame\n",
      "\n",
      "See the caveats in the documentation: https://pandas.pydata.org/pandas-docs/stable/user_guide/indexing.html#returning-a-view-versus-a-copy\n",
      "  u2[\"Pre_score\"][i]=1\n"
     ]
    },
    {
     "name": "stdout",
     "output_type": "stream",
     "text": [
      "======== 0.8471756573773497 0.5745018889334362 0.8798828125 0.7272727272727272\n"
     ]
    }
   ],
   "source": [
    "from sklearn import metrics\n",
    "\n",
    "BB2 = np.where(u2[\"score\"] != 0)\n",
    "aver_score2 = np.mean(u2[\"score\"])\n",
    "# print(u2[\"score\"])\n",
    "# print(u2[\"Pre_score\"])\n",
    "# u2[\"score\"] >= aver_score2 = 1  # 大于等于0.5的设为1\n",
    "# u2[\"score\"] < aver_score2 = 0  # 小于0.5的设为0\n",
    "for i in range(len(u2[\"score\"])):\n",
    "    if u2[\"score\"][i]>=aver_score2:\n",
    "        u2[\"score\"][i]=1\n",
    "    else:\n",
    "        u2[\"score\"][i]=0\n",
    "# print(u2[\"score\"])\n",
    "for i in range(len(u2[\"Pre_score\"])):\n",
    "    if u2[\"Pre_score\"][i]>=aver_score2:\n",
    "        u2[\"Pre_score\"][i]=1\n",
    "    else:\n",
    "        u2[\"Pre_score\"][i]=0\n",
    "# print(u2[\"Pre_score\"])\n",
    "roc_score = metrics.roc_auc_score(u2[\"score\"], u2[\"Pre_score\"])\n",
    "ap_score = metrics.average_precision_score(u2[\"score\"], u2[\"Pre_score\"])\n",
    "# u2[\"Pre_score\"][u2[\"Pre_score\"] >= np.round(aver_score)] = 1  # 大于等于0.5的设为1\n",
    "# u2[\"Pre_score\"][u2[\"Pre_score\"] < np.round(aver_score)] = 0  # 小于0.5的设为0\n",
    "accuracy = metrics.accuracy_score(u2[\"score\"], u2[\"Pre_score\"])\n",
    "f1 = f1_score(u2[\"score\"], u2[\"Pre_score\"])  # 计算分数\n",
    "print(\"========\",roc_score,ap_score,accuracy,f1)\n"
   ]
  }
 ],
 "metadata": {
  "kernelspec": {
   "display_name": "Python 3",
   "language": "python",
   "name": "python3"
  },
  "language_info": {
   "codemirror_mode": {
    "name": "ipython",
    "version": 3
   },
   "file_extension": ".py",
   "mimetype": "text/x-python",
   "name": "python",
   "nbconvert_exporter": "python",
   "pygments_lexer": "ipython3",
   "version": "3.7.0"
  }
 },
 "nbformat": 4,
 "nbformat_minor": 4
}