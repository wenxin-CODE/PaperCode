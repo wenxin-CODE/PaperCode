{
 "cells": [
  {
   "cell_type": "code",
   "execution_count": 38,
   "metadata": {},
   "outputs": [
    {
     "name": "stdout",
     "output_type": "stream",
     "text": [
      "<class 'str'>\n",
      "Nature Communications - Neural network analysis of sleep stages enables efficient diagnosis of narcolepsy\n",
      "CVPR - A Simple Pooling-Based Design for Real-Time Salient Object Detection\n",
      "Fusion of End-to-End Deep Learning Models for Sequence-to-Sequence Sleep Staging\n",
      "A Residual Based Attention Model for EEG Based Sleep Staging\n",
      "GraphSleepNet Adaptive Spatial-Temporal Graph Conv\n",
      "SleepPrintNet A Multivariate Multimodal Neural Network Based on Physiological Time-Series for Automatic Sleep Staging\n",
      "TinySleepNet An Efficient Deep Learning Model for Sleep Stage Scoring based on Raw Single-Channel EEG\n",
      "Automatic Sleep Stage Scoring on Raw Single-Channel EEG  A comparative analysis of CNN Architectures\n",
      "BIBM - An End-to-End Sleep Staging Simulator Based on Mixed Deep Neural Networks\n",
      "BIBM - RecSleepNet An Automatic Sleep Staging Model Based on Feature Reconstruction\n",
      "CCRRSleepNet A Hybrid Relational Inductive Biases Network for Automatic Sleep Stage Classification on Raw Single-Channel EEG\n",
      "Multi-Scale Neural Network for EEG Representation Learning in BCI\n",
      "Multi-View Spatial-Temporal Graph Convolutional Networks With Domain Generalization for Sleep Stage Classification\n",
      "TPAMI - PoolNet+ Exploring the Potential of Pooling for Salient Object Detection\n",
      "AI Empowered Virtual Reality Integrated Systems for Sleep Stage Classification and Quality Enhancement\n",
      "Auto-annotating sleep stages based on polysomnographic data\n",
      "A Lightweight Segmented Attention Network for Sleep Staging by Fusing Local Characteristics and Adjacent Information\n",
      "Data augmentation in semi-supervised adversarial domain adaptation for EEG-based sleep staging\n",
      "Multi-Modal Physiological Signals Based Squeeze-and-Excitation Network With Domain Adversarial Learning for Sleep Staging\n",
      "SleepFCN A Fully Convolutional Deep Learning Framework for Sleep Stage Classification Using Single-Channel Electroencephalograms\n",
      "SleepSEEG automatic sleep scoring using intracranial EEG recordings only\n",
      "综述 -  Automatic sleep staging of EEG signals - recent development, challenges, and future directions\n",
      "综述 - Automatic sleep staging of EEG signals - recent development, challenges, and future directions\n",
      "Automatic Sleep Stage Classification Method based on Transformer-in-Transformer\n",
      "A New Post-Processing Method Using Latent Structure Influence Models for Channel Fusion in Automatic Sleep Staging (1)\n",
      "A New Post-Processing Method Using Latent Structure Influence Models for Channel Fusion in Automatic Sleep Staging\n",
      "EEG-Based Sleep Stage Classification via Neural Architecture Search\n",
      "Epoch-level and Sequence-level Multi-Head Self-Attention-based Sleep Stage Classification\n",
      "Improving Automatic Sleep Staging Via Temporal Smoothness Regularization\n",
      "Learning From Single-Expert Annotated Labels for Automatic Sleep Staging\n",
      "LMDA-Net A lightweight multi-dimensional attention network for general EEG-based brain-computer interfaces and interpretability\n",
      "MaskSleepNet A Cross-Modality Adaptation Neural Network for Heterogeneous Signals Processing in Sleep Staging\n",
      "MS-HNN Multi-Scale Hierarchical Neural Network With Squeeze and Excitation Block for Neonatal Sleep Staging Using a Single-Channel EEG\n",
      "Siamese Sleep Transformer For Robust Sleep Stage Scoring With Self-knowledge Distillation and Selective Batch Sampling\n",
      "TNNLS - Automated Sleep Staging via Parallel Frequency-Cut Attention\n",
      "U - Extracting Multi-Scale and Salient Features by MSE Based U-Structure and CBAM for Sleep Staging\n",
      "23-TPAMI-Brain-Machine Coupled Learning Method for Facial Emotion Recognition\n"
     ]
    }
   ],
   "source": [
    "import glob\n",
    "import re\n",
    "\n",
    "# 三引号接受换行字符串\n",
    "source = \"\"\"Structure-Preserving Transformers for Sequences of SPD Matrices——2309·\n",
    "            Self-Supervised PPG Representation Learning Shows High Inter-Subject Variability——2212\n",
    "            SleePyCo: Automatic Sleep Scoring with Feature Pyramid and Contrastive Learning——2209\n",
    "            Towards Interpretable Sleep Stage Classification Using Cross-Modal Transformers——2208\n",
    "            Do Not Sleep on Traditional Machine Learning: Simple and Interpretable Techniques Are Competitive to Deep Learning for Sleep Scoring——2207\n",
    "            ADAST: Attentive Cross-domain EEG-based Sleep Staging Framework with Iterative Self-Training——2107\n",
    "            An Attention-Based Deep Learning Approach for Sleep Stage Classification With Single-Channel EEG——2104\n",
    "            XSleepNet: Multi-View Sequential Model for Automatic Sleep Staging——2007\n",
    "            REST: Robust and Efficient Neural Networks for Sleep Monitoring in the Wild——2001\n",
    "            EEG aided boosting of single-lead ECG based sleep staging with Deep Knowledge Distillation——2211\n",
    "            Intra- and Inter-epoch Temporal Context Network (IITNet) Using Sub-epoch Features for Automatic Sleep Scoring on Raw Single-channel EEG——1902\n",
    "            An Open-source Toolbox for Analysing and Processing PhysioNet Databases in MATLAB and Octave\n",
    "            SleepEEGNet: Automated Sleep Stage Scoring with Sequence to Sequence Deep Learning Approach——1903\n",
    "            DeepSleepNet a Model for Automatic Sleep Stage Scoring based on Raw Single-Channel EEG——1703\n",
    "            U-Time: A Fully Convolutional Network for Time Series Segmentation Applied to Sleep Staging——1910\n",
    "            SeqSleepNet: End-to-End Hierarchical Recurrent Neural Network for Sequence-to-Sequence Automatic Sleep Staging——1809\n",
    "            Real-Time Sleep Staging using Deep Learning on a Smartphone for a Wearable EEG——1811\n",
    "            Dreem Open Datasets: Multi-Scored Sleep Datasets to compare Human and Automated sleep staging——1911\n",
    "            Uncovering the structure of clinical EEG signals with self-supervised learning——2007\n",
    "            Joint Classification and Prediction CNN Framework for Automatic Sleep Stage Classification——1805\n",
    "            Detection of REM Sleep Behaviour Disorder by Automated Polysomnography Analysis——1811\n",
    "            End-to-end Sleep Staging with Raw Single Channel EEG using Deep Residual ConvNets——1904\n",
    "            Towards More Accurate Automatic Sleep Staging via Deep Transfer Learning——1907\n",
    "            Screening for REM Sleep Behaviour Disorder with Minimal Sensors——1910\n",
    "            Opportunities and Challenges of Deep Learning Methods for Electrocardiogram Data: A Systematic Review——2001\n",
    "            SalientSleepNet: Multimodal Salient Wave Detection Network for Sleep Staging——2105\n",
    "            MetaSleepLearner: A Pilot Study on Fast Adaptation of Bio-signals-Based Sleep Stage Classifier to New Individual Subject Using Meta-Learning——2004\n",
    "            RobustSleepNet: Transfer learning for automated sleep staging at scale——2101\n",
    "            Sleep syndromes onset detection based on automatic sleep staging algorithm——2107\n",
    "            Self-supervised Contrastive Learning for EEG-based Sleep Staging——2109\n",
    "            Self-supervised EEG Representation Learning for Automatic Sleep Staging——2110\n",
    "            Deep Efficient Continuous Manifold Learning for Time Series Modeling——2112\n",
    "            A Deep Knowledge Distillation framework for EEG assisted enhancement of single-lead ECG based sleep staging——2112\n",
    "            TransSleep: Transitioning-aware Attention-based Deep Neural Network for Sleep Staging——2203\n",
    "            mulEEG: A Multi-View Representation Learning on EEG Signals——2204\n",
    "            A Knowledge Distillation Framework For Enhancing Ear-EEG Based Sleep Staging With Scalp-EEG Data——2211\n",
    "            Modeling Multivariate Biosignals With Graph Neural Networks and Structured State Space Models——2211\n",
    "            L-SeqSleepNet: Whole-cycle Long Sequence Modelling for Automatic Sleep Staging——2301\n",
    "            Contrastive Learning for Sleep Staging based on Inter Subject Correlation——2305\n",
    "            Structure-Preserving Transformers for Sequences of SPD Matrices——重复\n",
    "            S4Sleep: Elucidating the design space of deep-learning-based sleep stage classification models——2310\n",
    "            Domain Invariant Representation Learning and Sleep Dynamics Modeling for Automatic Sleep Staging——2312\n",
    "            Generalizable Sleep Staging via Multi-Level Domain Alignment——2401\n",
    "            Hybrid spiking neural network for sleep electroencephalogram signals——2203\n",
    "            Spatiotemporal modeling of multivariate signals with graph neural networks and structured state space models——2211\n",
    "            Sleeptransformer: Automatic sleep staging with interpretability and uncertainty quantification——2105\n",
    "            Pediatric automatic sleep staging: Deep learning ensemble improves accuracy and reduces predictive uncertainty——2108\n",
    "            Design_of_a_Hybrid_Competition-Cooperation_Teacher-Students_Model_for_Single_Channel_Based_Sleep_Staging——2009\n",
    "            Multichannel Multidomain-Based Knowledge Distillation Algorithm for Sleep Staging With Single-Channel EEG ——2401\n",
    "            Deep Transfer Learning for Single-Channel Automatic Sleep Staging with Channel Mismatch ——1904\n",
    "            Self-supervised Contrastive Representation Learning for Semi-supervised Time-Series Classification——2208\n",
    "            Seeing your sleep stage: cross-modal distillation from EEG to infrared video——2208\n",
    "            A novel dual-stream time-frequency contrastive pretext tasks framework for sleep stage classification——2312\"\"\"\n",
    "source = source.replace(':','').lower()\n",
    "print(type(source))\n",
    "\n",
    "target = glob.glob(\"D:\\PAPER\\Sleep Staging\\*.pdf\")\n",
    "# print(target[0][30:])\n",
    "for tar in target:\n",
    "    # replace之后要接受返回值\n",
    "    tar = tar.replace('_',' ')\n",
    "    # print(tar[30:-4])\n",
    "    if(source.find(tar[50:-28].lower())==-1):\n",
    "    # if re.search()\n",
    "        print(tar[30:-4])\n",
    "\n",
    "# DeepSleepNet a Model for Automatic Sleep Stage Scoring based on Raw Single-Channel EEG——1703"
   ]
  },
  {
   "cell_type": "code",
   "execution_count": 9,
   "metadata": {},
   "outputs": [
    {
     "name": "stdout",
     "output_type": "stream",
     "text": [
      "-1\n"
     ]
    }
   ],
   "source": [
    "TransSleep: Transitioning-aware Attention-based Deep Neural Network for Sleep Staging——2203\n",
    "# 定义一个字符串\n",
    "text = \"Hello, World! Welcome to Python programming.\"\n",
    "\n",
    "# 查找子字符串的索引\n",
    "index = text.find(\"AAA\")\n",
    "print(index)  # 输出：27\n"
   ]
  },
  {
   "cell_type": "code",
   "execution_count": 20,
   "metadata": {},
   "outputs": [
    {
     "name": "stdout",
     "output_type": "stream",
     "text": [
      "DeepSleepNet A Model for Automatic Sleep Stage Scoring Based on Raw Single-Channel EEG.pdf\n"
     ]
    }
   ],
   "source": [
    "text = \"DeepSleepNet_A_Model_for_Automatic_Sleep_Stage_Scoring_Based_on_Raw_Single-Channel_EEG.pdf\"\n",
    "print(text.replace('_',' '))\n"
   ]
  }
 ],
 "metadata": {
  "kernelspec": {
   "display_name": "base",
   "language": "python",
   "name": "python3"
  },
  "language_info": {
   "codemirror_mode": {
    "name": "ipython",
    "version": 3
   },
   "file_extension": ".py",
   "mimetype": "text/x-python",
   "name": "python",
   "nbconvert_exporter": "python",
   "pygments_lexer": "ipython3",
   "version": "3.9.15"
  }
 },
 "nbformat": 4,
 "nbformat_minor": 2
}
